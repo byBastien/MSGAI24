{
 "cells": [
  {
   "metadata": {},
   "cell_type": "markdown",
   "source": "# JSON Editor\n",
   "id": "c39b64e77b5e69dc"
  },
  {
   "cell_type": "code",
   "id": "initial_id",
   "metadata": {
    "collapsed": true,
    "ExecuteTime": {
     "end_time": "2024-11-16T16:39:29.812295Z",
     "start_time": "2024-11-16T16:39:29.787326Z"
    }
   },
   "source": [
    "import json\n",
    "from pathlib import Path\n",
    "from typing import List, Dict\n",
    "\n",
    "\n",
    "file_path = 'FewShots_results(1)'\n",
    "# \n",
    "# def load_experiment_results(results_dirs: List[str]) -> List[Dict]:\n",
    "#     results = []\n",
    "#     for results_dir in results_dirs:\n",
    "#         for result_file in Path(results_dir).rglob('*.json'):\n",
    "#             with open(result_file, 'r') as f:\n",
    "#                 results.append(json.load(f))\n",
    "#     return results\n",
    "# \n",
    "# # results_dirs = []\n",
    "# for i in range(1,4):\n",
    "#     results_dirs.append(f'{file_path}/Run{i}')\n",
    "\n",
    "import json\n",
    "from pathlib import Path\n",
    "from typing import List, Dict\n",
    "\n",
    "file_path = 'FewShots_results(1)'\n",
    "\n",
    "def update_experiment_results(results_dirs: List[str]) -> List[Dict]:\n",
    "    results = []\n",
    "    for results_dir in results_dirs:\n",
    "        for result_file in Path(results_dir).rglob('*.json'):\n",
    "            with open(result_file, 'r') as f:\n",
    "                data = json.load(f)\n",
    "                trunc_value = data.get('trunc', 50)  # Default to 50 if 'trunc' is not found\n",
    "                data['description'] = f\"{data['description']}_{trunc_value}\"\n",
    "                with open(result_file, 'w') as f_out:\n",
    "                    json.dump(data, f_out, indent=4)\n",
    "                results.append(data)\n",
    "    return results\n",
    "\n",
    "results_dirs = []\n",
    "for i in range(1, 4):\n",
    "    results_dirs.append(f'{file_path}/Run{i}')\n",
    "\n",
    "results = update_experiment_results(results_dirs)\n",
    "print(results)\n",
    "# results = []\n",
    "# for results_dir in results_dirs:\n",
    "#     for result_file in Path(results_dir).rglob('*.json'):\n",
    "#         if str(result_file).endswith('6.json'):\n",
    "#             result_file.unlink()\n",
    "#         else:\n",
    "#             no_json = str(result_file)[:-5]\n",
    "#             new = Path(no_json + \"_trunc100\" + \".json\")\n",
    "#             result_file.rename(new)"
   ],
   "outputs": [
    {
     "name": "stdout",
     "output_type": "stream",
     "text": [
      "[{'description': 'few_shot_base_torch.float16_2_100', 'accuracy': 0.831, 'unknown': 0.0, 'prediction_ratio': 0.5974, 'actual_ratio': 0.5096, 'begin_time': 1731172556.0832539, 'end_time': 1731172942.18379, 'total_time': 386.10053610801697, 'trunc': 100}, {'description': 'few_shot_base_torch.float32_2_100', 'accuracy': 0.8342, 'unknown': 0.0, 'prediction_ratio': 0.5928, 'actual_ratio': 0.5062, 'begin_time': 1731181055.1310196, 'end_time': 1731181395.2256243, 'total_time': 340.0946047306061, 'trunc': 100}, {'description': 'few_shot_large_torch.float32_2_100', 'accuracy': 0.8868, 'unknown': 0.0, 'prediction_ratio': 0.5336, 'actual_ratio': 0.5024, 'begin_time': 1731182781.4587796, 'end_time': 1731190818.0575004, 'total_time': 8036.598720788956, 'trunc': 100}, {'description': 'few_shot_small_torch.float16_4_50', 'accuracy': 0.7268, 'unknown': 0.0, 'prediction_ratio': 0.6256, 'actual_ratio': 0.5028, 'begin_time': 1731533678.6405225, 'end_time': 1731533780.7194922, 'total_time': 102.07896971702576, 'trunc': 50}, {'description': 'few_shot_small_torch.float32_4_50', 'accuracy': 0.7288, 'unknown': 0.0, 'prediction_ratio': 0.6104, 'actual_ratio': 0.4888, 'begin_time': 1731539040.5489733, 'end_time': 1731539144.312324, 'total_time': 103.76335072517395, 'trunc': 50}, {'description': 'few_shot_large_torch.float16_2_100', 'accuracy': 0.8904, 'unknown': 0.0, 'prediction_ratio': 0.543, 'actual_ratio': 0.511, 'begin_time': 1731174419.561821, 'end_time': 1731175643.476632, 'total_time': 1223.9148111343384, 'trunc': 100}, {'description': 'few_shot_large_torch.float16_4_50', 'accuracy': 0.8338, 'unknown': 0.0, 'prediction_ratio': 0.5338, 'actual_ratio': 0.494, 'begin_time': 1731535093.6959875, 'end_time': 1731536402.6429503, 'total_time': 1308.9469628334045, 'trunc': 50}, {'description': 'few_shot_small_torch.float16_2_100', 'accuracy': 0.7532, 'unknown': 0.0, 'prediction_ratio': 0.6518, 'actual_ratio': 0.5025999999999999, 'begin_time': 1731171988.8374918, 'end_time': 1731172099.7372422, 'total_time': 110.89975047111511, 'trunc': 100}, {'description': 'few_shot_base_torch.float16_2_50', 'accuracy': 0.7726, 'unknown': 0.0, 'prediction_ratio': 0.564, 'actual_ratio': 0.5025999999999999, 'begin_time': 1731499452.4380634, 'end_time': 1731499809.601524, 'total_time': 357.16346073150635, 'trunc': 50}, {'description': 'few_shot_small_torch.float32_2_100', 'accuracy': 0.7678, 'unknown': 0.0, 'prediction_ratio': 0.6562, 'actual_ratio': 0.506, 'begin_time': 1731180527.5587633, 'end_time': 1731180629.192997, 'total_time': 101.63423371315002, 'trunc': 100}, {'description': 'few_shot_base_torch.float32_2_50', 'accuracy': 0.7862, 'unknown': 0.0, 'prediction_ratio': 0.5678, 'actual_ratio': 0.5032, 'begin_time': 1731506826.5309746, 'end_time': 1731507167.3449771, 'total_time': 340.8140025138855, 'trunc': 50}, {'description': 'few_shot_large_torch.float32_2_50', 'accuracy': 0.8322, 'unknown': 0.0, 'prediction_ratio': 0.5156, 'actual_ratio': 0.491, 'begin_time': 1731507883.0508487, 'end_time': 1731516611.2734528, 'total_time': 8728.222604036331, 'trunc': 50}, {'description': 'few_shot_large_torch.float16_2_50', 'accuracy': 0.8324, 'unknown': 0.0, 'prediction_ratio': 0.5364, 'actual_ratio': 0.4992, 'begin_time': 1731500535.1523457, 'end_time': 1731502522.990685, 'total_time': 1987.8383393287659, 'trunc': 50}, {'description': 'few_shot_small_torch.float16_2_50', 'accuracy': 0.7204, 'unknown': 0.0, 'prediction_ratio': 0.625, 'actual_ratio': 0.503, 'begin_time': 1731499096.1417124, 'end_time': 1731499206.6793025, 'total_time': 110.53759002685547, 'trunc': 50}, {'description': 'few_shot_small_torch.float32_2_50', 'accuracy': 0.7208, 'unknown': 0.0, 'prediction_ratio': 0.6226, 'actual_ratio': 0.4982, 'begin_time': 1731506500.5036576, 'end_time': 1731506603.058981, 'total_time': 102.55532336235046, 'trunc': 50}, {'description': 'few_shot_base_torch.float16_4_50', 'accuracy': 0.7756, 'unknown': 0.0, 'prediction_ratio': 0.5924, 'actual_ratio': 0.5016, 'begin_time': 1731534010.455418, 'end_time': 1731534365.6673343, 'total_time': 355.2119162082672, 'trunc': 50}, {'description': 'few_shot_base_torch.float32_4_50', 'accuracy': 0.7682, 'unknown': 0.0, 'prediction_ratio': 0.5864, 'actual_ratio': 0.4898, 'begin_time': 1731539366.3147326, 'end_time': 1731539731.2935238, 'total_time': 364.97879123687744, 'trunc': 50}, {'description': 'few_shot_base_torch.float16_2_100', 'accuracy': 0.8302, 'unknown': 0.0, 'prediction_ratio': 0.5886, 'actual_ratio': 0.5032, 'begin_time': 1731172948.6654587, 'end_time': 1731173325.6291022, 'total_time': 376.9636435508728, 'trunc': 100}, {'description': 'few_shot_base_torch.float32_2_100', 'accuracy': 0.8224, 'unknown': 0.0, 'prediction_ratio': 0.5964, 'actual_ratio': 0.4988, 'begin_time': 1731181398.3113747, 'end_time': 1731181739.0662131, 'total_time': 340.7548384666443, 'trunc': 100}, {'description': 'few_shot_large_torch.float32_2_100', 'accuracy': 0.8892, 'unknown': 0.0, 'prediction_ratio': 0.5378, 'actual_ratio': 0.5034000000000001, 'begin_time': 1731190821.3217404, 'end_time': 1731198848.420401, 'total_time': 8027.098660707474, 'trunc': 100}, {'description': 'few_shot_small_torch.float16_4_50', 'accuracy': 0.73, 'unknown': 0.0, 'prediction_ratio': 0.6234, 'actual_ratio': 0.4982, 'begin_time': 1731533784.6539671, 'end_time': 1731533888.3486178, 'total_time': 103.69465065002441, 'trunc': 50}, {'description': 'few_shot_small_torch.float32_4_50', 'accuracy': 0.7376, 'unknown': 0.0, 'prediction_ratio': 0.6208, 'actual_ratio': 0.512, 'begin_time': 1731539149.6330938, 'end_time': 1731539252.9028769, 'total_time': 103.26978302001953, 'trunc': 50}, {'description': 'few_shot_large_torch.float16_2_100', 'accuracy': 0.8862, 'unknown': 0.0, 'prediction_ratio': 0.5356, 'actual_ratio': 0.505, 'begin_time': 1731175646.7628744, 'end_time': 1731176864.0185034, 'total_time': 1217.2556290626526, 'trunc': 100}, {'description': 'few_shot_large_torch.float16_4_50', 'accuracy': 0.8362, 'unknown': 0.0, 'prediction_ratio': 0.535, 'actual_ratio': 0.496, 'begin_time': 1731536406.5564823, 'end_time': 1731537717.1939242, 'total_time': 1310.6374418735504, 'trunc': 50}, {'description': 'few_shot_small_torch.float16_2_100', 'accuracy': 0.7556, 'unknown': 0.0, 'prediction_ratio': 0.6456, 'actual_ratio': 0.4928, 'begin_time': 1731172102.914477, 'end_time': 1731172206.8199403, 'total_time': 103.90546321868896, 'trunc': 100}, {'description': 'few_shot_base_torch.float16_2_50', 'accuracy': 0.7748, 'unknown': 0.0, 'prediction_ratio': 0.5562, 'actual_ratio': 0.5054000000000001, 'begin_time': 1731499812.701959, 'end_time': 1731500171.190984, 'total_time': 358.4890251159668, 'trunc': 50}, {'description': 'few_shot_small_torch.float32_2_100', 'accuracy': 0.7634, 'unknown': 0.0, 'prediction_ratio': 0.641, 'actual_ratio': 0.4988, 'begin_time': 1731180632.2997038, 'end_time': 1731180733.8491583, 'total_time': 101.5494544506073, 'trunc': 100}, {'description': 'few_shot_base_torch.float32_2_50', 'accuracy': 0.776, 'unknown': 0.0, 'prediction_ratio': 0.5706, 'actual_ratio': 0.5018, 'begin_time': 1731507170.003903, 'end_time': 1731507522.2818234, 'total_time': 352.27792048454285, 'trunc': 50}, {'description': 'few_shot_large_torch.float32_2_50', 'accuracy': 0.8358, 'unknown': 0.0, 'prediction_ratio': 0.5306, 'actual_ratio': 0.49839999999999995, 'begin_time': 1731516614.072964, 'end_time': 1731525188.6243744, 'total_time': 8574.55141043663, 'trunc': 50}, {'description': 'few_shot_large_torch.float16_2_50', 'accuracy': 0.8336, 'unknown': 0.0, 'prediction_ratio': 0.5396, 'actual_ratio': 0.5032, 'begin_time': 1731502525.8163338, 'end_time': 1731504511.2739568, 'total_time': 1985.4576230049133, 'trunc': 50}, {'description': 'few_shot_small_torch.float16_2_50', 'accuracy': 0.7198, 'unknown': 0.0, 'prediction_ratio': 0.6088, 'actual_ratio': 0.495, 'begin_time': 1731499210.9859269, 'end_time': 1731499324.5544598, 'total_time': 113.56853294372559, 'trunc': 50}, {'description': 'few_shot_small_torch.float32_2_50', 'accuracy': 0.7114, 'unknown': 0.0, 'prediction_ratio': 0.6242, 'actual_ratio': 0.4992, 'begin_time': 1731506606.2624013, 'end_time': 1731506710.8165686, 'total_time': 104.5541672706604, 'trunc': 50}, {'description': 'few_shot_base_torch.float16_4_50', 'accuracy': 0.773, 'unknown': 0.0, 'prediction_ratio': 0.594, 'actual_ratio': 0.5025999999999999, 'begin_time': 1731534371.3621142, 'end_time': 1731534730.960285, 'total_time': 359.5981707572937, 'trunc': 50}, {'description': 'few_shot_base_torch.float32_4_50', 'accuracy': 0.7684, 'unknown': 0.0, 'prediction_ratio': 0.581, 'actual_ratio': 0.5005999999999999, 'begin_time': 1731539737.189911, 'end_time': 1731540077.836786, 'total_time': 340.64687514305115, 'trunc': 50}, {'description': 'few_shot_base_torch.float16_2_100', 'accuracy': 0.8286, 'unknown': 0.0, 'prediction_ratio': 0.591, 'actual_ratio': 0.5084, 'begin_time': 1731173332.433906, 'end_time': 1731173712.4283404, 'total_time': 379.99443435668945, 'trunc': 100}, {'description': 'few_shot_base_torch.float32_2_100', 'accuracy': 0.832, 'unknown': 0.0, 'prediction_ratio': 0.5952, 'actual_ratio': 0.5116, 'begin_time': 1731181742.2217767, 'end_time': 1731182082.8364396, 'total_time': 340.6146628856659, 'trunc': 100}, {'description': 'few_shot_large_torch.float32_2_100', 'accuracy': 0.888, 'unknown': 0.0, 'prediction_ratio': 0.534, 'actual_ratio': 0.5, 'begin_time': 1731198851.7704759, 'end_time': 1731206861.8419387, 'total_time': 8010.071462869644, 'trunc': 100}, {'description': 'few_shot_small_torch.float16_4_50', 'accuracy': 0.7294, 'unknown': 0.0, 'prediction_ratio': 0.6294, 'actual_ratio': 0.498, 'begin_time': 1731533893.9935164, 'end_time': 1731534000.4298337, 'total_time': 106.43631720542908, 'trunc': 50}, {'description': 'few_shot_small_torch.float32_4_50', 'accuracy': 0.7168, 'unknown': 0.0, 'prediction_ratio': 0.6248, 'actual_ratio': 0.49960000000000004, 'begin_time': 1731539258.6305566, 'end_time': 1731539360.513054, 'total_time': 101.88249731063843, 'trunc': 50}, {'description': 'few_shot_large_torch.float16_2_100', 'accuracy': 0.8936, 'unknown': 0.0, 'prediction_ratio': 0.536, 'actual_ratio': 0.5052, 'begin_time': 1731176867.1052473, 'end_time': 1731178083.4916954, 'total_time': 1216.3864481449127, 'trunc': 100}, {'description': 'few_shot_large_torch.float16_4_50', 'accuracy': 0.8342, 'unknown': 0.0, 'prediction_ratio': 0.5316, 'actual_ratio': 0.4918, 'begin_time': 1731537721.222148, 'end_time': 1731539034.5753238, 'total_time': 1313.3531758785248, 'trunc': 50}, {'description': 'few_shot_small_torch.float16_2_100', 'accuracy': 0.7704, 'unknown': 0.0, 'prediction_ratio': 0.659, 'actual_ratio': 0.5058, 'begin_time': 1731172210.1541555, 'end_time': 1731172315.8687499, 'total_time': 105.71459436416626, 'trunc': 100}, {'description': 'few_shot_base_torch.float16_2_50', 'accuracy': 0.7712, 'unknown': 0.0, 'prediction_ratio': 0.5682, 'actual_ratio': 0.5034000000000001, 'begin_time': 1731500175.0762053, 'end_time': 1731500517.2911065, 'total_time': 342.21490120887756, 'trunc': 50}, {'description': 'few_shot_small_torch.float32_2_100', 'accuracy': 0.754, 'unknown': 0.0, 'prediction_ratio': 0.6694, 'actual_ratio': 0.5078, 'begin_time': 1731180736.941883, 'end_time': 1731180838.6728718, 'total_time': 101.73098874092102, 'trunc': 100}, {'description': 'few_shot_base_torch.float32_2_50', 'accuracy': 0.7796, 'unknown': 0.0, 'prediction_ratio': 0.5678, 'actual_ratio': 0.5122, 'begin_time': 1731507526.0457554, 'end_time': 1731507868.2823765, 'total_time': 342.2366211414337, 'trunc': 50}, {'description': 'few_shot_large_torch.float32_2_50', 'accuracy': 0.8356, 'unknown': 0.0, 'prediction_ratio': 0.5314, 'actual_ratio': 0.493, 'begin_time': 1731525191.5246143, 'end_time': 1731533668.9890554, 'total_time': 8477.46444106102, 'trunc': 50}, {'description': 'few_shot_large_torch.float16_2_50', 'accuracy': 0.8338, 'unknown': 0.0, 'prediction_ratio': 0.5308, 'actual_ratio': 0.5002, 'begin_time': 1731504514.018616, 'end_time': 1731506494.957985, 'total_time': 1980.9393689632416, 'trunc': 50}, {'description': 'few_shot_small_torch.float16_2_50', 'accuracy': 0.7184, 'unknown': 0.0, 'prediction_ratio': 0.614, 'actual_ratio': 0.49039999999999995, 'begin_time': 1731499327.9372315, 'end_time': 1731499442.1798174, 'total_time': 114.24258589744568, 'trunc': 50}, {'description': 'few_shot_small_torch.float32_2_50', 'accuracy': 0.7232, 'unknown': 0.0, 'prediction_ratio': 0.6136, 'actual_ratio': 0.48839999999999995, 'begin_time': 1731506713.7847056, 'end_time': 1731506818.0829518, 'total_time': 104.29824614524841, 'trunc': 50}, {'description': 'few_shot_base_torch.float16_4_50', 'accuracy': 0.7816, 'unknown': 0.0, 'prediction_ratio': 0.593, 'actual_ratio': 0.4958, 'begin_time': 1731534736.44661, 'end_time': 1731535074.1952355, 'total_time': 337.7486255168915, 'trunc': 50}, {'description': 'few_shot_base_torch.float32_4_50', 'accuracy': 0.7666, 'unknown': 0.0, 'prediction_ratio': 0.6012, 'actual_ratio': 0.5014000000000001, 'begin_time': 1731540083.3779624, 'end_time': 1731540423.6877367, 'total_time': 340.3097743988037, 'trunc': 50}]\n"
     ]
    }
   ],
   "execution_count": 22
  },
  {
   "metadata": {
    "ExecuteTime": {
     "end_time": "2024-11-16T18:36:21.323774Z",
     "start_time": "2024-11-16T18:36:21.301938Z"
    }
   },
   "cell_type": "code",
   "source": [
    "import json\n",
    "from pathlib import Path\n",
    "from typing import List, Dict\n",
    "import pandas as pd\n",
    "\n",
    "def load_experiment_results(results_dirs: List[str]) -> pd.DataFrame:\n",
    "    results = []\n",
    "    for results_dir in results_dirs:\n",
    "        for result_file in Path(results_dir).rglob('*.json'):\n",
    "            if 'result_replication' in result_file.name:\n",
    "                with open(result_file, 'r') as f:\n",
    "                    results.append(json.load(f))\n",
    "\n",
    "    df = pd.DataFrame(results)\n",
    "    df = df.join(pd.json_normalize(df.pop(df.columns[0])))\n",
    "\n",
    "    return df\n",
    "\n",
    "def process_all_folders_in_directory(directory: str) -> pd.DataFrame:\n",
    "    all_dfs = []\n",
    "    for folder in Path(directory).iterdir():\n",
    "        if folder.is_dir():\n",
    "            results_dirs = [str(folder)]\n",
    "            df = load_experiment_results(results_dirs)\n",
    "            all_dfs.append(df)\n",
    "    big_df = pd.concat(all_dfs, ignore_index=True)\n",
    "    return big_df\n",
    "\n",
    "directory = 'exercise-3_firstTry'\n",
    "big_dataframe = process_all_folders_in_directory(directory)\n",
    "\n",
    "print(big_dataframe)"
   ],
   "id": "9ec984fdf6bd3471",
   "outputs": [
    {
     "name": "stdout",
     "output_type": "stream",
     "text": [
      "   accuracy  unknown  prediction_ratio  actual_ratio    begin_time  \\\n",
      "0      0.73      0.0              0.64          0.51  1.731430e+09   \n",
      "1      0.00      1.0               NaN          0.54  1.731430e+09   \n",
      "2      0.00      1.0               NaN          0.51  1.731431e+09   \n",
      "3      0.00      1.0               NaN          0.51  1.731430e+09   \n",
      "4      0.00      1.0               NaN          0.52  1.731430e+09   \n",
      "5      0.00      1.0               NaN          0.43  1.731430e+09   \n",
      "6      0.00      1.0               NaN          0.50  1.731430e+09   \n",
      "7      0.77      0.0              0.60          0.45  1.731430e+09   \n",
      "\n",
      "       end_time  total_time  rank  alpha    modules  \n",
      "0  1.731430e+09   43.968657     8     16     [k, q]  \n",
      "1  1.731430e+09   44.168845     8     32  [k, q, v]  \n",
      "2  1.731431e+09   52.288482    16     32     [k, q]  \n",
      "3  1.731430e+09   44.130644    16     16  [k, q, v]  \n",
      "4  1.731430e+09   43.670245    16     16  [k, q, v]  \n",
      "5  1.731431e+09  115.590908    16     32     [k, q]  \n",
      "6  1.731430e+09   44.527215     8     32  [k, q, v]  \n",
      "7  1.731430e+09   45.305698     8     16     [k, q]  \n"
     ]
    },
    {
     "name": "stderr",
     "output_type": "stream",
     "text": [
      "/var/folders/v9/n514v4yd4hn8vqwrpj4cdt8c0000gn/T/ipykernel_8169/3202665903.py:26: FutureWarning: The behavior of DataFrame concatenation with empty or all-NA entries is deprecated. In a future version, this will no longer exclude empty or all-NA columns when determining the result dtypes. To retain the old behavior, exclude the relevant entries before the concat operation.\n",
      "  big_df = pd.concat(all_dfs, ignore_index=True)\n"
     ]
    }
   ],
   "execution_count": 25
  },
  {
   "metadata": {
    "ExecuteTime": {
     "end_time": "2024-11-16T18:56:56.040079Z",
     "start_time": "2024-11-16T18:56:56.027898Z"
    }
   },
   "cell_type": "code",
   "source": [
    "import os\n",
    "from pathlib import Path\n",
    "\n",
    "def rename_files_in_directory(directory: str):\n",
    "    for file_path in Path(directory).rglob('*torch.float16*'):\n",
    "        new_file_path = str(file_path).replace('torch.float16', 'torch.float32')\n",
    "        os.rename(file_path, new_file_path)\n",
    "        print(f'Renamed: {file_path} to {new_file_path}')\n",
    "\n",
    "directory = 'exercise-3_firstTry'\n",
    "rename_files_in_directory(directory)"
   ],
   "id": "4354f1560c492840",
   "outputs": [
    {
     "name": "stdout",
     "output_type": "stream",
     "text": [
      "Renamed: exercise-3_firstTry/exp_0_0_rank=8_alpha=16_dtype=torch.float16_epochs=2 to exercise-3_firstTry/exp_0_0_rank=8_alpha=16_dtype=torch.float32_epochs=2\n",
      "Renamed: exercise-3_firstTry/exp_1_1_rank=8_alpha=32_dtype=torch.float16_epochs=2 to exercise-3_firstTry/exp_1_1_rank=8_alpha=32_dtype=torch.float32_epochs=2\n",
      "Renamed: exercise-3_firstTry/exp_1_3_rank=16_alpha=32_dtype=torch.float16_epochs=2 to exercise-3_firstTry/exp_1_3_rank=16_alpha=32_dtype=torch.float32_epochs=2\n",
      "Renamed: exercise-3_firstTry/exp_0_2_rank=16_alpha=16_dtype=torch.float16_epochs=2 to exercise-3_firstTry/exp_0_2_rank=16_alpha=16_dtype=torch.float32_epochs=2\n",
      "Renamed: exercise-3_firstTry/exp_1_2_rank=16_alpha=16_dtype=torch.float16_epochs=2 to exercise-3_firstTry/exp_1_2_rank=16_alpha=16_dtype=torch.float32_epochs=2\n",
      "Renamed: exercise-3_firstTry/exp_0_3_rank=16_alpha=32_dtype=torch.float16_epochs=2 to exercise-3_firstTry/exp_0_3_rank=16_alpha=32_dtype=torch.float32_epochs=2\n",
      "Renamed: exercise-3_firstTry/exp_0_1_rank=8_alpha=32_dtype=torch.float16_epochs=2 to exercise-3_firstTry/exp_0_1_rank=8_alpha=32_dtype=torch.float32_epochs=2\n",
      "Renamed: exercise-3_firstTry/exp_1_0_rank=8_alpha=16_dtype=torch.float16_epochs=2 to exercise-3_firstTry/exp_1_0_rank=8_alpha=16_dtype=torch.float32_epochs=2\n"
     ]
    }
   ],
   "execution_count": 26
  },
  {
   "metadata": {},
   "cell_type": "code",
   "outputs": [],
   "execution_count": null,
   "source": "",
   "id": "8ed73c33e386cf7c"
  }
 ],
 "metadata": {
  "kernelspec": {
   "display_name": "Python 3",
   "language": "python",
   "name": "python3"
  },
  "language_info": {
   "codemirror_mode": {
    "name": "ipython",
    "version": 2
   },
   "file_extension": ".py",
   "mimetype": "text/x-python",
   "name": "python",
   "nbconvert_exporter": "python",
   "pygments_lexer": "ipython2",
   "version": "2.7.6"
  }
 },
 "nbformat": 4,
 "nbformat_minor": 5
}
